{
 "cells": [
  {
   "cell_type": "code",
   "execution_count": 1,
   "metadata": {},
   "outputs": [],
   "source": [
    "import setup  # notebooks/setup.py\n",
    "setup.init()"
   ]
  },
  {
   "cell_type": "code",
   "execution_count": 2,
   "metadata": {},
   "outputs": [],
   "source": [
    "from tmdb import client as tmdb_client"
   ]
  },
  {
   "cell_type": "code",
   "execution_count": 6,
   "metadata": {},
   "outputs": [],
   "source": [
    "response = tmdb_client.search_movie(\"Mission Impossible\")\n",
    "results = response.get(\"results\")\n",
    "movie_id = results[0].get('id')"
   ]
  },
  {
   "cell_type": "code",
   "execution_count": 7,
   "metadata": {},
   "outputs": [
    {
     "data": {
      "text/plain": [
       "{'adult': False,\n",
       " 'backdrop_path': '/3VkPqpjKikQg2M2n6xgTfR9xr7E.jpg',\n",
       " 'belongs_to_collection': {'id': 87359,\n",
       "  'name': 'Mission: Impossible Collection',\n",
       "  'poster_path': '/geEjCGfdmRAA1skBPwojcdvnZ8A.jpg',\n",
       "  'backdrop_path': '/mroWh717g0Ah2c0rrPGW6f3EWMM.jpg'},\n",
       " 'budget': 400000000,\n",
       " 'genres': [{'id': 28, 'name': 'Action'},\n",
       "  {'id': 12, 'name': 'Adventure'},\n",
       "  {'id': 53, 'name': 'Thriller'}],\n",
       " 'homepage': 'https://www.missionimpossible.com',\n",
       " 'id': 575265,\n",
       " 'imdb_id': 'tt9603208',\n",
       " 'origin_country': ['US'],\n",
       " 'original_language': 'en',\n",
       " 'original_title': 'Mission: Impossible - The Final Reckoning',\n",
       " 'overview': \"Ethan Hunt and team continue their search for the terrifying AI known as the Entity — which has infiltrated intelligence networks all over the globe — with the world's governments and a mysterious ghost from Hunt's past on their trail. Joined by new allies and armed with the means to shut the Entity down for good, Hunt is in a race against time to prevent the world as we know it from changing forever.\",\n",
       " 'popularity': 272.2818,\n",
       " 'poster_path': '/z53D72EAOxGRqdr7KXXWp9dJiDe.jpg',\n",
       " 'production_companies': [{'id': 4,\n",
       "   'logo_path': '/gz66EfNoYPqHTYI4q9UEN4CbHRc.png',\n",
       "   'name': 'Paramount Pictures',\n",
       "   'origin_country': 'US'},\n",
       "  {'id': 82819,\n",
       "   'logo_path': '/gXfFl9pRPaoaq14jybEn1pHeldr.png',\n",
       "   'name': 'Skydance Media',\n",
       "   'origin_country': 'US'},\n",
       "  {'id': 21777,\n",
       "   'logo_path': None,\n",
       "   'name': 'TC Productions',\n",
       "   'origin_country': 'US'}],\n",
       " 'production_countries': [{'iso_3166_1': 'US',\n",
       "   'name': 'United States of America'}],\n",
       " 'release_date': '2025-05-17',\n",
       " 'revenue': 353736128,\n",
       " 'runtime': 170,\n",
       " 'spoken_languages': [{'english_name': 'French',\n",
       "   'iso_639_1': 'fr',\n",
       "   'name': 'Français'},\n",
       "  {'english_name': 'English', 'iso_639_1': 'en', 'name': 'English'},\n",
       "  {'english_name': 'Inuktitut', 'iso_639_1': 'iu', 'name': ''}],\n",
       " 'status': 'Released',\n",
       " 'tagline': 'Our lives are the sum of our choices.',\n",
       " 'title': 'Mission: Impossible - The Final Reckoning',\n",
       " 'video': False,\n",
       " 'vote_average': 7.1,\n",
       " 'vote_count': 571}"
      ]
     },
     "execution_count": 7,
     "metadata": {},
     "output_type": "execute_result"
    }
   ],
   "source": [
    "detail_response = tmdb_client.movie_detail(movie_id)\n",
    "detail_response"
   ]
  },
  {
   "cell_type": "code",
   "execution_count": null,
   "metadata": {},
   "outputs": [],
   "source": []
  }
 ],
 "metadata": {
  "kernelspec": {
   "display_name": "venv",
   "language": "python",
   "name": "python3"
  },
  "language_info": {
   "codemirror_mode": {
    "name": "ipython",
    "version": 3
   },
   "file_extension": ".py",
   "mimetype": "text/x-python",
   "name": "python",
   "nbconvert_exporter": "python",
   "pygments_lexer": "ipython3",
   "version": "3.13.2"
  }
 },
 "nbformat": 4,
 "nbformat_minor": 2
}
