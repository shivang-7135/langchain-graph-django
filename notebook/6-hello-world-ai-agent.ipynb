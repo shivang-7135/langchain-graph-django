{
 "cells": [
  {
   "cell_type": "code",
   "execution_count": 1,
   "metadata": {},
   "outputs": [],
   "source": [
    "import setup  # notebooks/setup.py\n",
    "setup.init()"
   ]
  },
  {
   "cell_type": "code",
   "execution_count": 2,
   "metadata": {},
   "outputs": [],
   "source": [
    "from ai.agents import get_document_agent"
   ]
  },
  {
   "cell_type": "code",
   "execution_count": 3,
   "metadata": {},
   "outputs": [],
   "source": [
    "agent = get_document_agent()"
   ]
  },
  {
   "cell_type": "code",
   "execution_count": 6,
   "metadata": {},
   "outputs": [],
   "source": [
    "import uuid \n",
    "config = {\"configurable\": {\"user_id\": \"2\", \"thread_id\": uuid.uuid4()}}\n",
    "\n",
    "response = agent.invoke(\n",
    "    {\"messages\": \n",
    "        [\n",
    "            {\"role\": \"user\", \"content\": \"what are my recent documents?\"}\n",
    "        ]\n",
    "    },\n",
    "    config\n",
    ")"
   ]
  },
  {
   "cell_type": "code",
   "execution_count": 13,
   "metadata": {},
   "outputs": [
    {
     "name": "stdout",
     "output_type": "stream",
     "text": [
      "0 what are my recent documents? content='what are my recent documents?' additional_kwargs={} response_metadata={} id='d7ec2686-59ac-42dd-b833-7a073d02f03a'\n",
      "\n",
      "\n",
      "\n",
      "2 [{\"id\": 10, \"title\": \"Title\"}, {\"id\": 9, \"title\": \"Title\"}, {\"id\": 8, \"title\": \"Title\"}, {\"id\": 7, \"title\": \"Title\"}, {\"id\": 6, \"title\": \"Hello world\"}] content='[{\"id\": 10, \"title\": \"Title\"}, {\"id\": 9, \"title\": \"Title\"}, {\"id\": 8, \"title\": \"Title\"}, {\"id\": 7, \"title\": \"Title\"}, {\"id\": 6, \"title\": \"Hello world\"}]' name='list_documents' id='ee373fca-630c-4659-b522-41c85022065d' tool_call_id='call_u0husBYqj4nTRS7YMxJeSmC5'\n",
      "\n",
      "\n",
      "\n",
      "3 Here are your most recent documents:\n",
      "\n",
      "1. **Title** (ID: 10)\n",
      "2. **Title** (ID: 9)\n",
      "3. **Title** (ID: 8)\n",
      "4. **Title** (ID: 7)\n",
      "5. **Hello world** (ID: 6) content='Here are your most recent documents:\\n\\n1. **Title** (ID: 10)\\n2. **Title** (ID: 9)\\n3. **Title** (ID: 8)\\n4. **Title** (ID: 7)\\n5. **Hello world** (ID: 6)' additional_kwargs={'refusal': None} response_metadata={'token_usage': {'completion_tokens': 64, 'prompt_tokens': 170, 'total_tokens': 234, 'completion_tokens_details': {'accepted_prediction_tokens': 0, 'audio_tokens': 0, 'reasoning_tokens': 0, 'rejected_prediction_tokens': 0}, 'prompt_tokens_details': {'audio_tokens': 0, 'cached_tokens': 0}}, 'model_name': 'gpt-4o-mini-2024-07-18', 'system_fingerprint': 'fp_34a54ae93c', 'id': 'chatcmpl-BeQ0fc9WEHW8DJHCQyhw6FqpNpYZ5', 'service_tier': 'default', 'finish_reason': 'stop', 'logprobs': None} id='run--58276873-584c-462c-834d-eb46caa8c76e-0' usage_metadata={'input_tokens': 170, 'output_tokens': 64, 'total_tokens': 234, 'input_token_details': {'audio': 0, 'cache_read': 0}, 'output_token_details': {'audio': 0, 'reasoning': 0}}\n",
      "\n",
      "\n",
      "\n"
     ]
    }
   ],
   "source": [
    "for i, msg in enumerate(response['messages']):\n",
    "    if msg.content:\n",
    "        print(i, msg.content, msg)\n",
    "        print(\"\\n\\n\")"
   ]
  },
  {
   "cell_type": "code",
   "execution_count": 14,
   "metadata": {},
   "outputs": [
    {
     "data": {
      "text/plain": [
       "'Here are your most recent documents:\\n\\n1. **Title** (ID: 10)\\n2. **Title** (ID: 9)\\n3. **Title** (ID: 8)\\n4. **Title** (ID: 7)\\n5. **Hello world** (ID: 6)'"
      ]
     },
     "execution_count": 14,
     "metadata": {},
     "output_type": "execute_result"
    }
   ],
   "source": [
    "response['messages'][-1].content"
   ]
  },
  {
   "cell_type": "code",
   "execution_count": null,
   "metadata": {},
   "outputs": [],
   "source": []
  }
 ],
 "metadata": {
  "kernelspec": {
   "display_name": "venv",
   "language": "python",
   "name": "python3"
  },
  "language_info": {
   "codemirror_mode": {
    "name": "ipython",
    "version": 3
   },
   "file_extension": ".py",
   "mimetype": "text/x-python",
   "name": "python",
   "nbconvert_exporter": "python",
   "pygments_lexer": "ipython3",
   "version": "3.13.2"
  }
 },
 "nbformat": 4,
 "nbformat_minor": 2
}
