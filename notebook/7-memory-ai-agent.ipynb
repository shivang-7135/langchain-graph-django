{
 "cells": [
  {
   "cell_type": "code",
   "execution_count": 1,
   "metadata": {},
   "outputs": [],
   "source": [
    "import setup  # notebooks/setup.py\n",
    "setup.init()"
   ]
  },
  {
   "cell_type": "code",
   "execution_count": 2,
   "metadata": {},
   "outputs": [],
   "source": [
    "from ai.agents import get_document_agent"
   ]
  },
  {
   "cell_type": "code",
   "execution_count": 3,
   "metadata": {},
   "outputs": [],
   "source": [
    "from langgraph.checkpoint.memory import InMemorySaver \n",
    "\n",
    "checkpointer = InMemorySaver()"
   ]
  },
  {
   "cell_type": "code",
   "execution_count": null,
   "metadata": {},
   "outputs": [],
   "source": [
    "agent = get_document_agent(model=\"mistral-medium-latest\", checkpointer=checkpointer)"
   ]
  },
  {
   "cell_type": "code",
   "execution_count": 7,
   "metadata": {},
   "outputs": [],
   "source": [
    "import uuid \n",
    "config = {\"configurable\": {\"user_id\": \"2\", \"thread_id\": uuid.uuid4()}}\n",
    "\n",
    "response = agent.invoke(\n",
    "    {\"messages\": \n",
    "        [\n",
    "            {\"role\": \"user\", \"content\": \"what are my recent documents?\"}\n",
    "        ]\n",
    "    },\n",
    "    config\n",
    ")"
   ]
  },
  {
   "cell_type": "code",
   "execution_count": 8,
   "metadata": {},
   "outputs": [
    {
     "data": {
      "text/plain": [
       "'Here are your most recent documents (up to 5):\\n\\n1. **Hello world** – ID\\u202f1  \\n2. **Title** – ID\\u202f2  \\n3. **Title** – ID\\u202f3  \\n\\nLet me know if you’d like to view, edit, or delete any of them!'"
      ]
     },
     "execution_count": 8,
     "metadata": {},
     "output_type": "execute_result"
    }
   ],
   "source": [
    "response['messages'][-1].content"
   ]
  },
  {
   "cell_type": "code",
   "execution_count": 9,
   "metadata": {},
   "outputs": [
    {
     "data": {
      "text/plain": [
       "'Yes—two of your recent documents share the same title:\\n\\n| ID | Title |\\n|----|-------|\\n| 2  | Title |\\n| 3  | Title |\\n\\nIf you’d like to rename, delete, or otherwise manage these duplicates, just let me know!'"
      ]
     },
     "execution_count": 9,
     "metadata": {},
     "output_type": "execute_result"
    }
   ],
   "source": [
    "response = agent.invoke(\n",
    "    {\"messages\": \n",
    "        [\n",
    "            {\"role\": \"user\", \"content\": \"Are there duplicates\"}\n",
    "        ]\n",
    "    },\n",
    "    config\n",
    ")\n",
    "response['messages'][-1].content"
   ]
  },
  {
   "cell_type": "code",
   "execution_count": null,
   "metadata": {},
   "outputs": [],
   "source": []
  }
 ],
 "metadata": {
  "kernelspec": {
   "display_name": "poc_env",
   "language": "python",
   "name": "python3"
  },
  "language_info": {
   "codemirror_mode": {
    "name": "ipython",
    "version": 3
   },
   "file_extension": ".py",
   "mimetype": "text/x-python",
   "name": "python",
   "nbconvert_exporter": "python",
   "pygments_lexer": "ipython3",
   "version": "3.13.2"
  }
 },
 "nbformat": 4,
 "nbformat_minor": 2
}
